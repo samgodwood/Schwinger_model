{
 "cells": [
  {
   "cell_type": "code",
   "execution_count": 1,
   "id": "f54dd35f-b031-4fc7-bd60-d4a3c21af2a5",
   "metadata": {},
   "outputs": [],
   "source": [
    "import numpy as np\n",
    "from qualtran.bloqs.chemistry.thc import SelectTHC, PrepareTHC\n",
    "\n",
    "# Let's just generate some random coefficients for the moment with parameters\n",
    "# corresponding to the FeMoCo model complex.\n",
    "num_spin_orb = 108\n",
    "num_mu = 350\n",
    "num_bits_theta = 16\n",
    "num_bits_state_prep = 10\n",
    "tpq = np.random.normal(0, 1, size=(num_spin_orb//2, num_spin_orb//2))\n",
    "zeta = np.random.normal(0, 1, size=(num_mu, num_mu))\n",
    "zeta = 0.5 * (zeta + zeta.T)\n",
    "eta = np.random.normal(0, 1, size=(num_mu, num_spin_orb//2))\n",
    "eri_thc = np.einsum(\"Pp,Pr,Qq,Qs,PQ->prqs\", eta, eta, eta, eta, zeta, optimize=True)\n",
    "# In practice one typically uses the exact ERI tensor instead of that from THC, but that's a minor detail.\n",
    "tpq_prime = tpq - 0.5 * np.einsum(\"illj->ij\", eri_thc, optimize=True) + np.einsum(\"llij->ij\", eri_thc, optimize=True)\n",
    "t_l = np.linalg.eigvalsh(tpq_prime)\n",
    "# Build Select and Prepare\n",
    "prep_thc = PrepareTHC.from_hamiltonian_coeffs(t_l, eta, zeta, num_bits_state_prep=num_bits_state_prep)\n",
    "sel_thc = SelectTHC(num_mu, num_spin_orb, num_bits_theta=num_bits_theta, keep_bitsize=prep_thc.keep_bitsize, kr1=16, kr2=16)"
   ]
  },
  {
   "cell_type": "code",
   "execution_count": 2,
   "id": "a5f49e8d-6dcc-4c03-95f5-eac6e654a556",
   "metadata": {},
   "outputs": [],
   "source": [
    "from qualtran.bloqs.block_encoding import LCUBlockEncoding\n",
    "from qualtran.bloqs.multiplexers.black_box_select import BlackBoxSelect\n",
    "from qualtran.bloqs.state_preparation.black_box_prepare import BlackBoxPrepare\n",
    "\n",
    "epsilon = 1e-4  # choosing this arbitrarily at this point. See: https://github.com/quantumlib/Qualtran/issues/985\n",
    "block_encoding_bloq = LCUBlockEncoding(\n",
    "    select=BlackBoxSelect(sel_thc), prepare=BlackBoxPrepare(prep_thc)\n",
    ")"
   ]
  },
  {
   "cell_type": "code",
   "execution_count": 3,
   "id": "303c32e6-efe1-4f61-9c0f-c3558235105b",
   "metadata": {},
   "outputs": [
    {
     "data": {
      "image/png": "[encoded data removed]",
      "text/plain": [
       "<Figure size 800x400 with 1 Axes>"
      ]
     },
     "metadata": {},
     "output_type": "display_data"
    }
   ],
   "source": [
    "import matplotlib.pyplot as plt\n",
    "from qualtran.drawing.musical_score import get_musical_score_data, draw_musical_score\n",
    "msd = get_musical_score_data(block_encoding_bloq.decompose_bloq())\n",
    "fig, ax = draw_musical_score(msd)\n",
    "plt.tick_params(left=False, right=False, labelleft=False, labelbottom=False, bottom=False)\n",
    "fig.set_size_inches(8, 4)"
   ]
  },
  {
   "cell_type": "code",
   "execution_count": 4,
   "id": "025a75cd-ccf2-4eeb-b1f9-8b30be218f58",
   "metadata": {},
   "outputs": [
    {
     "name": "stdout",
     "output_type": "stream",
     "text": [
      "qualtran = 17894 vs. ref = 10880, delta = 7014\n"
     ]
    }
   ],
   "source": [
    "from qualtran.resource_counting import get_bloq_call_graph\n",
    "import attrs\n",
    "from qualtran.bloqs.bookkeeping import Partition, Split, Join, Allocate, Free\n",
    "from qualtran.bloqs.basic_gates import CSwap, TGate\n",
    "from qualtran.drawing import show_call_graph\n",
    "\n",
    "def keeper(bloq):\n",
    "    # intercept CSwaps which are lumped in with Toffolis in the reference papers\n",
    "    if isinstance(bloq, CSwap):\n",
    "        return True\n",
    "    return False\n",
    "\n",
    "def generalizer(bloq):\n",
    "    if isinstance(bloq, (Partition, Split, Join, Allocate, Free)):\n",
    "        return None\n",
    "    return bloq\n",
    "\n",
    "\n",
    "def get_toffoli_counts(bloq):\n",
    "    _, sigma = get_bloq_call_graph(bloq, generalizer=generalizer, keep=keeper)\n",
    "    toffolis = 0\n",
    "    for k, v in sigma.items():\n",
    "        if isinstance(k, CSwap):\n",
    "            toffolis += v * k.bitsize\n",
    "        elif isinstance(k, TGate):\n",
    "            toffolis += v // 4\n",
    "    return toffolis\n",
    "\n",
    "num_toff = get_toffoli_counts(block_encoding_bloq)\n",
    "# note the cost here is from openfermion, the reference number excludes the reflection\n",
    "print(f'qualtran = {num_toff} vs. ref = 10880, delta = {num_toff - 10880}')"
   ]
  }
 ],
 "metadata": {
  "kernelspec": {
   "display_name": "schwinger_env",
   "language": "python",
   "name": "python3"
  },
  "language_info": {
   "codemirror_mode": {
    "name": "ipython",
    "version": 3
   },
   "file_extension": ".py",
   "mimetype": "text/x-python",
   "name": "python",
   "nbconvert_exporter": "python",
   "pygments_lexer": "ipython3",
   "version": "3.10.12"
  }
 },
 "nbformat": 4,
 "nbformat_minor": 5
}
