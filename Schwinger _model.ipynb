{
 "cells": [
  {
   "cell_type": "markdown",
   "id": "81ca42e4-4fa4-4a2e-8156-8e5a8468e60c",
   "metadata": {},
   "source": [
    "## Trotterized Schwinger Model"
   ]
  },
  {
   "cell_type": "markdown",
   "id": "04302757-0919-4bcc-aaf7-87fc78a8aa4b",
   "metadata": {},
   "source": [
    "The Schwinger Model is interesting to simulate as it is the one of the simplest gauge theores to display characteristic QCD features (confinement, Spontaneous Chiral Symmetry Breaking). The attempt at a Trotterization-based quantum simulation shown here is based on the work [here](https://quantum-journal.org/papers/q-2020-08-10-306/pdf/). \n",
    "\n",
    "The Lattice Hamiltonian can be expressed as:\n",
    "$$H = H_E + H_I + H_M$$\n",
    "\n",
    "Term $H_E$ relates to the energy of the electric fields in the gauge links, $H_I$ represents the minimal couplicng of the Dirac and gauge fields, and $H_M$ represents the mass energy of the fermions. Bosons are associated with the lattice links while fermions are associated witht he sites. The site occupation has the following interpretation: occupied even site ∼ presence of a positron, empty odd site ∼ presence of an electron. An $N$ size lattice is used to represent an $N/2$ sized physical lattice."
   ]
  },
  {
   "cell_type": "code",
   "execution_count": 144,
   "id": "55bad641-2b37-4072-b5c7-d0c0f90fff2e",
   "metadata": {},
   "outputs": [],
   "source": [
    "import cirq\n",
    "import numpy as np\n",
    "from qualtran import Bloq, CompositeBloq, BloqBuilder, Signature, Register\n",
    "from qualtran import QBit, QInt, QUInt, QAny\n",
    "from qualtran.drawing import show_bloq, show_call_graph, show_counts_sigma, show_bloqs\n",
    "from typing import *\n",
    "import sympy\n",
    "from qualtran import SoquetT\n",
    "from qualtran.symbolics import SymbolicFloat, SymbolicInt"
   ]
  },
  {
   "cell_type": "markdown",
   "id": "57f68b63-5477-4786-8fc8-fdeda7b9b23a",
   "metadata": {},
   "source": [
    "First I will define a bloq representing the hopping terms $T_r$ defined on the paper. The first step when defining such a bloq is to define the signature, essentially a list of registers that the bloq will act on. In this case the bloq represents the interaction between sites $r$ and $r+1$. The link register is also involved in the hopping terms, with links represented in a binary registed for the electric fields. The size of this electric field register depends on the chosen cutoff for their Hilbert space. Next I will define the composite bloq representing the operations performed on the qubit."
   ]
  },
  {
   "cell_type": "code",
   "execution_count": 145,
   "id": "1a79a2f3-9cb0-4ca4-bc09-a788fed148a2",
   "metadata": {},
   "outputs": [],
   "source": [
    "class Incrementer(Bloq):\n",
    "    @property\n",
    "    def signature(self) -> Signature:\n",
    "        return Signature.build(x=2, y=2)\n",
    "        \n",
    "    eps = 1e-9 \n",
    "    \n",
    "    def build_composite_bloq(            \n",
    "            self, bb: 'BloqBuilder', x: 'Soquet', y: 'Soquet'\n",
    "    ) -> Dict[str, 'Soquet']:\n",
    "        ys = bb.split(electric_fields)\n",
    "\n",
    "        ##QFT^-1\n",
    "        ys[-1] = bb.add(Hadamard())\n",
    "        for j in range(1, len(ys)):\n",
    "            i = m-j-1\n",
    "            ys[i] = bb.add(PhaseGradientUnitary(exponent=-0.5, is_controlled=True).on_registers(\n",
    "                ctrl=q[i], phase_grad=ys[:i][::-1]\n",
    "            ))\n",
    "            ys[i] = bb.add(Hadamard())\n",
    "\n",
    "        \n",
    "        for i in range(length(ys)):\n",
    "            angle = 2*np.pi*2**i/(2**m)\n",
    "            ys[i] = bb.add(Rz(angle,eps))\n",
    "        \n",
    "        ##QFT\n",
    "        ys[0] = bb.add(Hadamard())\n",
    "        for i in range(1, len(ys)):\n",
    "            ys[i] = bb.add(PhaseGradientUnitary(exponent=0.5, is_controlled=True).on_registers(\n",
    "                ctrl=q[i], phase_grad=ys[:i][::-1]\n",
    "            ))\n",
    "            ys[i] = bb.add(Hadamard())\n",
    "\n",
    "    \n",
    "        return {'x':x,'y': bb.join(ys)}"
   ]
  },
  {
   "cell_type": "code",
   "execution_count": 146,
   "id": "4c63a663-05c4-4ed8-aa69-56b2041cd8c7",
   "metadata": {},
   "outputs": [],
   "source": [
    "class Decrementer(Bloq):\n",
    "    m: int = 2\n",
    "    def signature(self) -> Signature:\n",
    "        return Signature.build(electric_fields=self.m)\n",
    "        \n",
    "    eps: SymbolicFloat = 1e-9 \n",
    "    \n",
    "    def build_composite_bloq(            \n",
    "            self, bb: BloqBuilder, *, electric_fields: SoquetT\n",
    "    ) -> Dict[str, SoquetT]:\n",
    "        ys = bb.split(electric_fields)\n",
    "        \n",
    "        ##QFT\n",
    "        ys[0] = bb.add(Hadamard())\n",
    "        for i in range(1, len(ys)):\n",
    "            ys[i] = bb.add(PhaseGradientUnitary(exponent=0.5, is_controlled=True).on_registers(\n",
    "                ctrl=q[i], phase_grad=ys[:i][::-1]\n",
    "            ))\n",
    "            ys[i] = bb.add(Hadamard())\n",
    "\n",
    "        \n",
    "        for i in range(length(ys)):\n",
    "            angle = 2*np.pi*2**i/(2**m)\n",
    "            ys[i] = bb.add(Rz(-angle,eps))\n",
    "            \n",
    "        ##QFT^-1\n",
    "        ys[-1] = bb.add(Hadamard())\n",
    "        for j in range(1, len(ys)):\n",
    "            i = m-j-1\n",
    "            ys[i] = bb.add(PhaseGradientUnitary(exponent=-0.5, is_controlled=True).on_registers(\n",
    "                ctrl=q[i], phase_grad=ys[:i][::-1]\n",
    "            ))\n",
    "            ys[i] = bb.add(Hadamard())     \n",
    "\n",
    "    \n",
    "        return {'y': bb.join(ys)}"
   ]
  },
  {
   "cell_type": "code",
   "execution_count": 147,
   "id": "9b400dd5-c9db-449c-8a71-b40f1b673af5",
   "metadata": {},
   "outputs": [],
   "source": [
    "class HoppingTerm(Bloq):    \n",
    "    n = 2\n",
    "    m = 2\n",
    "    def signature(self) -> Signature:\n",
    "        return Signature.build(x=n, y=m)\n",
    "\n",
    "    \n",
    "    angle: SymbolicFloat = 1 \n",
    "    eps: SymbolicFloat = 1e-9 \n",
    "    \n",
    "    def build_composite_bloq(\n",
    "            self, bb: BloqBuilder, *, x: SoquetT, y: SoquetT\n",
    "    ) -> Dict[str, SoquetT]:\n",
    "        xs = bb.split(x)\n",
    "        ys = bb.split(y)\n",
    "        xs[0], xs[1] = bb.add(CNOT(), ctrl=xs[0], target=xs[1])\n",
    "        xs[0]= bb.add(Hadamard())\n",
    "        ys[0]= bb.add(Hadamard())\n",
    "        \n",
    "        ys[0], xs[0] = bb.add(CNOT(),ctrl=ys[0], target=xs[0])\n",
    "        xs[0], xs[1] = bb.add(CNOT(), ctrl=xs[0], target=xs[1])\n",
    "\n",
    "        xs[0]= bb.add(Rz(self.angle, eps=self.eps)) \n",
    "        xs[1]= bb.add(Rz(-self.angle, eps=self.eps)) \n",
    "        \n",
    "        xs[0], xs[1] = bb.add(CNOT(), ctrl=xs[0], target=xs[1])\n",
    "        ys[0], xs[0] = bb.add(CNOT(),ctrl=ys[0], target=xs[0])\n",
    "\n",
    "        ys[0]= bb.add(Hadamard())\n",
    "        electric_fields = bb.add(Incrementer())\n",
    "        ys[0]= bb.add(Hadamard())\n",
    "\n",
    "        ys[0], xs[0] = bb.add(CNOT(),ctrl=ys[0], target=xs[0])\n",
    "        xs[0], xs[1] = bb.add(CNOT(), ctrl=xs[0], target=xs[1])\n",
    "\n",
    "        xs[0]= bb.add(Rz(self.angle, eps=self.eps)) \n",
    "        xs[1]= bb.add(Rz(-self.angle, eps=self.eps)) \n",
    "        \n",
    "        xs[0], xs[1] = bb.add(CNOT(), ctrl=xs[0], target=xs[1])\n",
    "        ys[0], xs[0] = bb.add(CNOT(),ctrl=ys[0], target=xs[0])\n",
    "\n",
    "        xs[0]= bb.add(Hadamard())\n",
    "        ys[0]= bb.add(Hadamard())\n",
    "        xs[0]= bb.add(SGate.adjoint())\n",
    "        ys[0]= bb.add(SGate.adjoint())\n",
    "        xs[0]= bb.add(Hadmard())\n",
    "        ys[0]= bb.add(Hadamard())\n",
    "\n",
    "        ys[0], xs[0] = bb.add(CNOT(),ctrl=ys[0], target=xs[0])\n",
    "        xs[0], xs[1] = bb.add(CNOT(), ctrl=xs[0], target=xs[1])\n",
    "\n",
    "        xs[0]= bb.add(Rz(self.angle, eps=self.eps)) \n",
    "        xs[1]= bb.add(Rz(-self.angle, eps=self.eps)) \n",
    "        \n",
    "        xs[0], xs[1] = bb.add(CNOT(), ctrl=xs[0], target=xs[1])\n",
    "        ys[0], xs[0] = bb.add(CNOT(),ctrl=ys[0], target=xs[0])\n",
    "\n",
    "\n",
    "        ys[0]= bb.add(Hadamard())\n",
    "        ys[0]= bb.add(SGate())\n",
    "        electric_fields = bb.add(Decrementer())\n",
    "        ys[0]= bb.add(SGate.adjoint())\n",
    "        ys[0]= bb.add(Hadamard())\n",
    "\n",
    "        ys[0], xs[0] = bb.add(CNOT(),ctrl=ys[0], target=xs[0])\n",
    "        xs[0], xs[1] = bb.add(CNOT(), ctrl=xs[0], target=xs[1])\n",
    "\n",
    "        xs[0]= bb.add(Rz(self.angle, eps=self.eps)) \n",
    "        xs[1]= bb.add(Rz(-self.angle, eps=self.eps)) \n",
    "        \n",
    "        xs[0], xs[1] = bb.add(CNOT(), ctrl=xs[0], target=xs[1])\n",
    "        ys[0], xs[0] = bb.add(CNOT(),ctrl=ys[0], target=xs[0])\n",
    "\n",
    "        xs[0]= bb.add(Hadamard())\n",
    "        ys[0]= bb.add(Hadamard())\n",
    "\n",
    "        xs[0], xs[1] = bb.add(CNOT(), ctrl=xs[0], target=xs[1])\n",
    "        xs[0]= bb.add(SGate())\n",
    "        ys[0]= bb.add(SGate())\n",
    "        \n",
    "        return {\n",
    "            'x': bb.join(xs),\n",
    "            'y': bb.join(ys),\n",
    "        }\n"
   ]
  },
  {
   "cell_type": "code",
   "execution_count": 152,
   "id": "7bbdc628-cb83-41dc-a4c2-be3dfd2554dd",
   "metadata": {
    "scrolled": true
   },
   "outputs": [
    {
     "ename": "TypeError",
     "evalue": "No '__dict__' attribute on 'Connection' instance to cache 'shape' property.",
     "output_type": "error",
     "traceback": [
      "\u001b[1;31m---------------------------------------------------------------------------\u001b[0m",
      "\u001b[1;31mTypeError\u001b[0m                                 Traceback (most recent call last)",
      "Cell \u001b[1;32mIn[152], line 1\u001b[0m\n\u001b[1;32m----> 1\u001b[0m show_bloq(Incrementer())\n",
      "File \u001b[1;32m~\\.conda\\envs\\qualtran\\Lib\\site-packages\\qualtran\\drawing\\_show_funcs.py:48\u001b[0m, in \u001b[0;36mshow_bloq\u001b[1;34m(bloq, type)\u001b[0m\n\u001b[0;32m     37\u001b[0m \u001b[38;5;250m\u001b[39m\u001b[38;5;124;03m\"\"\"Display a visual representation of the bloq in IPython.\u001b[39;00m\n\u001b[0;32m     38\u001b[0m \n\u001b[0;32m     39\u001b[0m \u001b[38;5;124;03mArgs:\u001b[39;00m\n\u001b[1;32m   (...)\u001b[0m\n\u001b[0;32m     45\u001b[0m \u001b[38;5;124;03m        and is invoked via a subprocess.run() call. Otherwise, draw a musical score diagram.\u001b[39;00m\n\u001b[0;32m     46\u001b[0m \u001b[38;5;124;03m\"\"\"\u001b[39;00m\n\u001b[0;32m     47\u001b[0m \u001b[38;5;28;01mif\u001b[39;00m \u001b[38;5;28mtype\u001b[39m\u001b[38;5;241m.\u001b[39mlower() \u001b[38;5;241m==\u001b[39m \u001b[38;5;124m'\u001b[39m\u001b[38;5;124mgraph\u001b[39m\u001b[38;5;124m'\u001b[39m:\n\u001b[1;32m---> 48\u001b[0m     IPython\u001b[38;5;241m.\u001b[39mdisplay\u001b[38;5;241m.\u001b[39mdisplay(PrettyGraphDrawer(bloq)\u001b[38;5;241m.\u001b[39mget_svg())\n\u001b[0;32m     49\u001b[0m \u001b[38;5;28;01melif\u001b[39;00m \u001b[38;5;28mtype\u001b[39m\u001b[38;5;241m.\u001b[39mlower() \u001b[38;5;241m==\u001b[39m \u001b[38;5;124m'\u001b[39m\u001b[38;5;124mdtype\u001b[39m\u001b[38;5;124m'\u001b[39m:\n\u001b[0;32m     50\u001b[0m     IPython\u001b[38;5;241m.\u001b[39mdisplay\u001b[38;5;241m.\u001b[39mdisplay(TypedGraphDrawer(bloq)\u001b[38;5;241m.\u001b[39mget_svg())\n",
      "File \u001b[1;32m~\\.conda\\envs\\qualtran\\Lib\\site-packages\\qualtran\\drawing\\graphviz.py:367\u001b[0m, in \u001b[0;36mGraphDrawer.get_svg\u001b[1;34m(self)\u001b[0m\n\u001b[0;32m    365\u001b[0m \u001b[38;5;28;01mdef\u001b[39;00m \u001b[38;5;21mget_svg\u001b[39m(\u001b[38;5;28mself\u001b[39m) \u001b[38;5;241m-\u001b[39m\u001b[38;5;241m>\u001b[39m IPython\u001b[38;5;241m.\u001b[39mdisplay\u001b[38;5;241m.\u001b[39mSVG:\n\u001b[0;32m    366\u001b[0m \u001b[38;5;250m    \u001b[39m\u001b[38;5;124;03m\"\"\"Get an IPython SVG object displaying the graph.\"\"\"\u001b[39;00m\n\u001b[1;32m--> 367\u001b[0m     \u001b[38;5;28;01mreturn\u001b[39;00m IPython\u001b[38;5;241m.\u001b[39mdisplay\u001b[38;5;241m.\u001b[39mSVG(\u001b[38;5;28mself\u001b[39m\u001b[38;5;241m.\u001b[39mget_svg_bytes())\n",
      "File \u001b[1;32m~\\.conda\\envs\\qualtran\\Lib\\site-packages\\qualtran\\drawing\\graphviz.py:363\u001b[0m, in \u001b[0;36mGraphDrawer.get_svg_bytes\u001b[1;34m(self)\u001b[0m\n\u001b[0;32m    361\u001b[0m \u001b[38;5;28;01mdef\u001b[39;00m \u001b[38;5;21mget_svg_bytes\u001b[39m(\u001b[38;5;28mself\u001b[39m) \u001b[38;5;241m-\u001b[39m\u001b[38;5;241m>\u001b[39m \u001b[38;5;28mbytes\u001b[39m:\n\u001b[0;32m    362\u001b[0m \u001b[38;5;250m    \u001b[39m\u001b[38;5;124;03m\"\"\"Get the SVG code (as bytes) for drawing the graph.\"\"\"\u001b[39;00m\n\u001b[1;32m--> 363\u001b[0m     \u001b[38;5;28;01mreturn\u001b[39;00m \u001b[38;5;28mself\u001b[39m\u001b[38;5;241m.\u001b[39mget_graph()\u001b[38;5;241m.\u001b[39mcreate(prog\u001b[38;5;241m=\u001b[39m\u001b[38;5;124m'\u001b[39m\u001b[38;5;124mdot\u001b[39m\u001b[38;5;124m'\u001b[39m, \u001b[38;5;28mformat\u001b[39m\u001b[38;5;241m=\u001b[39m\u001b[38;5;124m'\u001b[39m\u001b[38;5;124msvg\u001b[39m\u001b[38;5;124m'\u001b[39m, encoding\u001b[38;5;241m=\u001b[39m\u001b[38;5;124m'\u001b[39m\u001b[38;5;124mutf-8\u001b[39m\u001b[38;5;124m'\u001b[39m)\n",
      "File \u001b[1;32m~\\.conda\\envs\\qualtran\\Lib\\site-packages\\qualtran\\drawing\\graphviz.py:357\u001b[0m, in \u001b[0;36mGraphDrawer.get_graph\u001b[1;34m(self)\u001b[0m\n\u001b[0;32m    354\u001b[0m graph \u001b[38;5;241m=\u001b[39m \u001b[38;5;28mself\u001b[39m\u001b[38;5;241m.\u001b[39madd_dangles(graph, \u001b[38;5;28mself\u001b[39m\u001b[38;5;241m.\u001b[39m_cbloq\u001b[38;5;241m.\u001b[39msignature, RightDangle)\n\u001b[0;32m    356\u001b[0m \u001b[38;5;28;01mfor\u001b[39;00m cxn \u001b[38;5;129;01min\u001b[39;00m \u001b[38;5;28mself\u001b[39m\u001b[38;5;241m.\u001b[39m_cbloq\u001b[38;5;241m.\u001b[39mconnections:\n\u001b[1;32m--> 357\u001b[0m     graph \u001b[38;5;241m=\u001b[39m \u001b[38;5;28mself\u001b[39m\u001b[38;5;241m.\u001b[39madd_cxn(graph, cxn)\n\u001b[0;32m    359\u001b[0m \u001b[38;5;28;01mreturn\u001b[39;00m graph\n",
      "File \u001b[1;32m~\\.conda\\envs\\qualtran\\Lib\\site-packages\\qualtran\\drawing\\graphviz.py:340\u001b[0m, in \u001b[0;36mGraphDrawer.add_cxn\u001b[1;34m(self, graph, cxn)\u001b[0m\n\u001b[0;32m    337\u001b[0m \u001b[38;5;28;01melse\u001b[39;00m:\n\u001b[0;32m    338\u001b[0m     right \u001b[38;5;241m=\u001b[39m \u001b[38;5;124mf\u001b[39m\u001b[38;5;124m'\u001b[39m\u001b[38;5;132;01m{\u001b[39;00m\u001b[38;5;28mself\u001b[39m\u001b[38;5;241m.\u001b[39mids[cxn\u001b[38;5;241m.\u001b[39mright\u001b[38;5;241m.\u001b[39mbinst]\u001b[38;5;132;01m}\u001b[39;00m\u001b[38;5;124m:\u001b[39m\u001b[38;5;132;01m{\u001b[39;00m\u001b[38;5;28mself\u001b[39m\u001b[38;5;241m.\u001b[39mids[cxn\u001b[38;5;241m.\u001b[39mright]\u001b[38;5;132;01m}\u001b[39;00m\u001b[38;5;124m:w\u001b[39m\u001b[38;5;124m'\u001b[39m\n\u001b[1;32m--> 340\u001b[0m graph\u001b[38;5;241m.\u001b[39madd_edge(\u001b[38;5;28mself\u001b[39m\u001b[38;5;241m.\u001b[39mcxn_edge(left, right, cxn))\n\u001b[0;32m    341\u001b[0m \u001b[38;5;28;01mreturn\u001b[39;00m graph\n",
      "File \u001b[1;32m~\\.conda\\envs\\qualtran\\Lib\\site-packages\\qualtran\\drawing\\graphviz.py:398\u001b[0m, in \u001b[0;36mPrettyGraphDrawer.cxn_edge\u001b[1;34m(self, left_id, right_id, cxn)\u001b[0m\n\u001b[0;32m    394\u001b[0m \u001b[38;5;28;01mdef\u001b[39;00m \u001b[38;5;21mcxn_edge\u001b[39m(\u001b[38;5;28mself\u001b[39m, left_id: \u001b[38;5;28mstr\u001b[39m, right_id: \u001b[38;5;28mstr\u001b[39m, cxn: Connection) \u001b[38;5;241m-\u001b[39m\u001b[38;5;241m>\u001b[39m pydot\u001b[38;5;241m.\u001b[39mEdge:\n\u001b[0;32m    395\u001b[0m     \u001b[38;5;28;01mreturn\u001b[39;00m pydot\u001b[38;5;241m.\u001b[39mEdge(\n\u001b[0;32m    396\u001b[0m         left_id,\n\u001b[0;32m    397\u001b[0m         right_id,\n\u001b[1;32m--> 398\u001b[0m         label\u001b[38;5;241m=\u001b[39m\u001b[38;5;28mself\u001b[39m\u001b[38;5;241m.\u001b[39mcxn_label(cxn),\n\u001b[0;32m    399\u001b[0m         labelfloat\u001b[38;5;241m=\u001b[39m\u001b[38;5;28;01mTrue\u001b[39;00m,\n\u001b[0;32m    400\u001b[0m         fontsize\u001b[38;5;241m=\u001b[39m\u001b[38;5;241m10\u001b[39m,\n\u001b[0;32m    401\u001b[0m         arrowhead\u001b[38;5;241m=\u001b[39m\u001b[38;5;124m'\u001b[39m\u001b[38;5;124mdot\u001b[39m\u001b[38;5;124m'\u001b[39m,\n\u001b[0;32m    402\u001b[0m         arrowsize\u001b[38;5;241m=\u001b[39m\u001b[38;5;241m0.25\u001b[39m,\n\u001b[0;32m    403\u001b[0m     )\n",
      "File \u001b[1;32m~\\.conda\\envs\\qualtran\\Lib\\site-packages\\qualtran\\drawing\\graphviz.py:313\u001b[0m, in \u001b[0;36mGraphDrawer.cxn_label\u001b[1;34m(self, cxn)\u001b[0m\n\u001b[0;32m    311\u001b[0m \u001b[38;5;28;01mdef\u001b[39;00m \u001b[38;5;21mcxn_label\u001b[39m(\u001b[38;5;28mself\u001b[39m, cxn: Connection) \u001b[38;5;241m-\u001b[39m\u001b[38;5;241m>\u001b[39m \u001b[38;5;28mstr\u001b[39m:\n\u001b[0;32m    312\u001b[0m \u001b[38;5;250m    \u001b[39m\u001b[38;5;124;03m\"\"\"Overridable method to return labels for connections.\"\"\"\u001b[39;00m\n\u001b[1;32m--> 313\u001b[0m     \u001b[38;5;28;01mreturn\u001b[39;00m \u001b[38;5;28mstr\u001b[39m(cxn\u001b[38;5;241m.\u001b[39mshape)\n",
      "File \u001b[1;32m~\\.conda\\envs\\qualtran\\Lib\\functools.py:990\u001b[0m, in \u001b[0;36mcached_property.__get__\u001b[1;34m(self, instance, owner)\u001b[0m\n\u001b[0;32m    985\u001b[0m \u001b[38;5;28;01mexcept\u001b[39;00m \u001b[38;5;167;01mAttributeError\u001b[39;00m:  \u001b[38;5;66;03m# not all objects have __dict__ (e.g. class defines slots)\u001b[39;00m\n\u001b[0;32m    986\u001b[0m     msg \u001b[38;5;241m=\u001b[39m (\n\u001b[0;32m    987\u001b[0m         \u001b[38;5;124mf\u001b[39m\u001b[38;5;124m\"\u001b[39m\u001b[38;5;124mNo \u001b[39m\u001b[38;5;124m'\u001b[39m\u001b[38;5;124m__dict__\u001b[39m\u001b[38;5;124m'\u001b[39m\u001b[38;5;124m attribute on \u001b[39m\u001b[38;5;132;01m{\u001b[39;00m\u001b[38;5;28mtype\u001b[39m(instance)\u001b[38;5;241m.\u001b[39m\u001b[38;5;18m__name__\u001b[39m\u001b[38;5;132;01m!r}\u001b[39;00m\u001b[38;5;124m \u001b[39m\u001b[38;5;124m\"\u001b[39m\n\u001b[0;32m    988\u001b[0m         \u001b[38;5;124mf\u001b[39m\u001b[38;5;124m\"\u001b[39m\u001b[38;5;124minstance to cache \u001b[39m\u001b[38;5;132;01m{\u001b[39;00m\u001b[38;5;28mself\u001b[39m\u001b[38;5;241m.\u001b[39mattrname\u001b[38;5;132;01m!r}\u001b[39;00m\u001b[38;5;124m property.\u001b[39m\u001b[38;5;124m\"\u001b[39m\n\u001b[0;32m    989\u001b[0m     )\n\u001b[1;32m--> 990\u001b[0m     \u001b[38;5;28;01mraise\u001b[39;00m \u001b[38;5;167;01mTypeError\u001b[39;00m(msg) \u001b[38;5;28;01mfrom\u001b[39;00m \u001b[38;5;28;01mNone\u001b[39;00m\n\u001b[0;32m    991\u001b[0m val \u001b[38;5;241m=\u001b[39m cache\u001b[38;5;241m.\u001b[39mget(\u001b[38;5;28mself\u001b[39m\u001b[38;5;241m.\u001b[39mattrname, _NOT_FOUND)\n\u001b[0;32m    992\u001b[0m \u001b[38;5;28;01mif\u001b[39;00m val \u001b[38;5;129;01mis\u001b[39;00m _NOT_FOUND:\n",
      "\u001b[1;31mTypeError\u001b[0m: No '__dict__' attribute on 'Connection' instance to cache 'shape' property."
     ]
    }
   ],
   "source": [
    "show_bloq(Incrementer())"
   ]
  },
  {
   "cell_type": "code",
   "execution_count": 150,
   "id": "6be75e09-6516-4be6-9637-c147fe5c2fe9",
   "metadata": {},
   "outputs": [
    {
     "ename": "TypeError",
     "evalue": "No '__dict__' attribute on 'Connection' instance to cache 'shape' property.",
     "output_type": "error",
     "traceback": [
      "\u001b[1;31m---------------------------------------------------------------------------\u001b[0m",
      "\u001b[1;31mTypeError\u001b[0m                                 Traceback (most recent call last)",
      "Cell \u001b[1;32mIn[150], line 16\u001b[0m\n\u001b[0;32m     14\u001b[0m q0, q1 \u001b[38;5;241m=\u001b[39m bb\u001b[38;5;241m.\u001b[39madd(bloq, ctrl\u001b[38;5;241m=\u001b[39mq0, target\u001b[38;5;241m=\u001b[39mq1)\n\u001b[0;32m     15\u001b[0m cbloq \u001b[38;5;241m=\u001b[39m bb\u001b[38;5;241m.\u001b[39mfinalize(q0\u001b[38;5;241m=\u001b[39mq0, q1\u001b[38;5;241m=\u001b[39mq1)\n\u001b[1;32m---> 16\u001b[0m show_bloq(cbloq)\n",
      "File \u001b[1;32m~\\.conda\\envs\\qualtran\\Lib\\site-packages\\qualtran\\drawing\\_show_funcs.py:48\u001b[0m, in \u001b[0;36mshow_bloq\u001b[1;34m(bloq, type)\u001b[0m\n\u001b[0;32m     37\u001b[0m \u001b[38;5;250m\u001b[39m\u001b[38;5;124;03m\"\"\"Display a visual representation of the bloq in IPython.\u001b[39;00m\n\u001b[0;32m     38\u001b[0m \n\u001b[0;32m     39\u001b[0m \u001b[38;5;124;03mArgs:\u001b[39;00m\n\u001b[1;32m   (...)\u001b[0m\n\u001b[0;32m     45\u001b[0m \u001b[38;5;124;03m        and is invoked via a subprocess.run() call. Otherwise, draw a musical score diagram.\u001b[39;00m\n\u001b[0;32m     46\u001b[0m \u001b[38;5;124;03m\"\"\"\u001b[39;00m\n\u001b[0;32m     47\u001b[0m \u001b[38;5;28;01mif\u001b[39;00m \u001b[38;5;28mtype\u001b[39m\u001b[38;5;241m.\u001b[39mlower() \u001b[38;5;241m==\u001b[39m \u001b[38;5;124m'\u001b[39m\u001b[38;5;124mgraph\u001b[39m\u001b[38;5;124m'\u001b[39m:\n\u001b[1;32m---> 48\u001b[0m     IPython\u001b[38;5;241m.\u001b[39mdisplay\u001b[38;5;241m.\u001b[39mdisplay(PrettyGraphDrawer(bloq)\u001b[38;5;241m.\u001b[39mget_svg())\n\u001b[0;32m     49\u001b[0m \u001b[38;5;28;01melif\u001b[39;00m \u001b[38;5;28mtype\u001b[39m\u001b[38;5;241m.\u001b[39mlower() \u001b[38;5;241m==\u001b[39m \u001b[38;5;124m'\u001b[39m\u001b[38;5;124mdtype\u001b[39m\u001b[38;5;124m'\u001b[39m:\n\u001b[0;32m     50\u001b[0m     IPython\u001b[38;5;241m.\u001b[39mdisplay\u001b[38;5;241m.\u001b[39mdisplay(TypedGraphDrawer(bloq)\u001b[38;5;241m.\u001b[39mget_svg())\n",
      "File \u001b[1;32m~\\.conda\\envs\\qualtran\\Lib\\site-packages\\qualtran\\drawing\\graphviz.py:367\u001b[0m, in \u001b[0;36mGraphDrawer.get_svg\u001b[1;34m(self)\u001b[0m\n\u001b[0;32m    365\u001b[0m \u001b[38;5;28;01mdef\u001b[39;00m \u001b[38;5;21mget_svg\u001b[39m(\u001b[38;5;28mself\u001b[39m) \u001b[38;5;241m-\u001b[39m\u001b[38;5;241m>\u001b[39m IPython\u001b[38;5;241m.\u001b[39mdisplay\u001b[38;5;241m.\u001b[39mSVG:\n\u001b[0;32m    366\u001b[0m \u001b[38;5;250m    \u001b[39m\u001b[38;5;124;03m\"\"\"Get an IPython SVG object displaying the graph.\"\"\"\u001b[39;00m\n\u001b[1;32m--> 367\u001b[0m     \u001b[38;5;28;01mreturn\u001b[39;00m IPython\u001b[38;5;241m.\u001b[39mdisplay\u001b[38;5;241m.\u001b[39mSVG(\u001b[38;5;28mself\u001b[39m\u001b[38;5;241m.\u001b[39mget_svg_bytes())\n",
      "File \u001b[1;32m~\\.conda\\envs\\qualtran\\Lib\\site-packages\\qualtran\\drawing\\graphviz.py:363\u001b[0m, in \u001b[0;36mGraphDrawer.get_svg_bytes\u001b[1;34m(self)\u001b[0m\n\u001b[0;32m    361\u001b[0m \u001b[38;5;28;01mdef\u001b[39;00m \u001b[38;5;21mget_svg_bytes\u001b[39m(\u001b[38;5;28mself\u001b[39m) \u001b[38;5;241m-\u001b[39m\u001b[38;5;241m>\u001b[39m \u001b[38;5;28mbytes\u001b[39m:\n\u001b[0;32m    362\u001b[0m \u001b[38;5;250m    \u001b[39m\u001b[38;5;124;03m\"\"\"Get the SVG code (as bytes) for drawing the graph.\"\"\"\u001b[39;00m\n\u001b[1;32m--> 363\u001b[0m     \u001b[38;5;28;01mreturn\u001b[39;00m \u001b[38;5;28mself\u001b[39m\u001b[38;5;241m.\u001b[39mget_graph()\u001b[38;5;241m.\u001b[39mcreate(prog\u001b[38;5;241m=\u001b[39m\u001b[38;5;124m'\u001b[39m\u001b[38;5;124mdot\u001b[39m\u001b[38;5;124m'\u001b[39m, \u001b[38;5;28mformat\u001b[39m\u001b[38;5;241m=\u001b[39m\u001b[38;5;124m'\u001b[39m\u001b[38;5;124msvg\u001b[39m\u001b[38;5;124m'\u001b[39m, encoding\u001b[38;5;241m=\u001b[39m\u001b[38;5;124m'\u001b[39m\u001b[38;5;124mutf-8\u001b[39m\u001b[38;5;124m'\u001b[39m)\n",
      "File \u001b[1;32m~\\.conda\\envs\\qualtran\\Lib\\site-packages\\qualtran\\drawing\\graphviz.py:357\u001b[0m, in \u001b[0;36mGraphDrawer.get_graph\u001b[1;34m(self)\u001b[0m\n\u001b[0;32m    354\u001b[0m graph \u001b[38;5;241m=\u001b[39m \u001b[38;5;28mself\u001b[39m\u001b[38;5;241m.\u001b[39madd_dangles(graph, \u001b[38;5;28mself\u001b[39m\u001b[38;5;241m.\u001b[39m_cbloq\u001b[38;5;241m.\u001b[39msignature, RightDangle)\n\u001b[0;32m    356\u001b[0m \u001b[38;5;28;01mfor\u001b[39;00m cxn \u001b[38;5;129;01min\u001b[39;00m \u001b[38;5;28mself\u001b[39m\u001b[38;5;241m.\u001b[39m_cbloq\u001b[38;5;241m.\u001b[39mconnections:\n\u001b[1;32m--> 357\u001b[0m     graph \u001b[38;5;241m=\u001b[39m \u001b[38;5;28mself\u001b[39m\u001b[38;5;241m.\u001b[39madd_cxn(graph, cxn)\n\u001b[0;32m    359\u001b[0m \u001b[38;5;28;01mreturn\u001b[39;00m graph\n",
      "File \u001b[1;32m~\\.conda\\envs\\qualtran\\Lib\\site-packages\\qualtran\\drawing\\graphviz.py:340\u001b[0m, in \u001b[0;36mGraphDrawer.add_cxn\u001b[1;34m(self, graph, cxn)\u001b[0m\n\u001b[0;32m    337\u001b[0m \u001b[38;5;28;01melse\u001b[39;00m:\n\u001b[0;32m    338\u001b[0m     right \u001b[38;5;241m=\u001b[39m \u001b[38;5;124mf\u001b[39m\u001b[38;5;124m'\u001b[39m\u001b[38;5;132;01m{\u001b[39;00m\u001b[38;5;28mself\u001b[39m\u001b[38;5;241m.\u001b[39mids[cxn\u001b[38;5;241m.\u001b[39mright\u001b[38;5;241m.\u001b[39mbinst]\u001b[38;5;132;01m}\u001b[39;00m\u001b[38;5;124m:\u001b[39m\u001b[38;5;132;01m{\u001b[39;00m\u001b[38;5;28mself\u001b[39m\u001b[38;5;241m.\u001b[39mids[cxn\u001b[38;5;241m.\u001b[39mright]\u001b[38;5;132;01m}\u001b[39;00m\u001b[38;5;124m:w\u001b[39m\u001b[38;5;124m'\u001b[39m\n\u001b[1;32m--> 340\u001b[0m graph\u001b[38;5;241m.\u001b[39madd_edge(\u001b[38;5;28mself\u001b[39m\u001b[38;5;241m.\u001b[39mcxn_edge(left, right, cxn))\n\u001b[0;32m    341\u001b[0m \u001b[38;5;28;01mreturn\u001b[39;00m graph\n",
      "File \u001b[1;32m~\\.conda\\envs\\qualtran\\Lib\\site-packages\\qualtran\\drawing\\graphviz.py:398\u001b[0m, in \u001b[0;36mPrettyGraphDrawer.cxn_edge\u001b[1;34m(self, left_id, right_id, cxn)\u001b[0m\n\u001b[0;32m    394\u001b[0m \u001b[38;5;28;01mdef\u001b[39;00m \u001b[38;5;21mcxn_edge\u001b[39m(\u001b[38;5;28mself\u001b[39m, left_id: \u001b[38;5;28mstr\u001b[39m, right_id: \u001b[38;5;28mstr\u001b[39m, cxn: Connection) \u001b[38;5;241m-\u001b[39m\u001b[38;5;241m>\u001b[39m pydot\u001b[38;5;241m.\u001b[39mEdge:\n\u001b[0;32m    395\u001b[0m     \u001b[38;5;28;01mreturn\u001b[39;00m pydot\u001b[38;5;241m.\u001b[39mEdge(\n\u001b[0;32m    396\u001b[0m         left_id,\n\u001b[0;32m    397\u001b[0m         right_id,\n\u001b[1;32m--> 398\u001b[0m         label\u001b[38;5;241m=\u001b[39m\u001b[38;5;28mself\u001b[39m\u001b[38;5;241m.\u001b[39mcxn_label(cxn),\n\u001b[0;32m    399\u001b[0m         labelfloat\u001b[38;5;241m=\u001b[39m\u001b[38;5;28;01mTrue\u001b[39;00m,\n\u001b[0;32m    400\u001b[0m         fontsize\u001b[38;5;241m=\u001b[39m\u001b[38;5;241m10\u001b[39m,\n\u001b[0;32m    401\u001b[0m         arrowhead\u001b[38;5;241m=\u001b[39m\u001b[38;5;124m'\u001b[39m\u001b[38;5;124mdot\u001b[39m\u001b[38;5;124m'\u001b[39m,\n\u001b[0;32m    402\u001b[0m         arrowsize\u001b[38;5;241m=\u001b[39m\u001b[38;5;241m0.25\u001b[39m,\n\u001b[0;32m    403\u001b[0m     )\n",
      "File \u001b[1;32m~\\.conda\\envs\\qualtran\\Lib\\site-packages\\qualtran\\drawing\\graphviz.py:313\u001b[0m, in \u001b[0;36mGraphDrawer.cxn_label\u001b[1;34m(self, cxn)\u001b[0m\n\u001b[0;32m    311\u001b[0m \u001b[38;5;28;01mdef\u001b[39;00m \u001b[38;5;21mcxn_label\u001b[39m(\u001b[38;5;28mself\u001b[39m, cxn: Connection) \u001b[38;5;241m-\u001b[39m\u001b[38;5;241m>\u001b[39m \u001b[38;5;28mstr\u001b[39m:\n\u001b[0;32m    312\u001b[0m \u001b[38;5;250m    \u001b[39m\u001b[38;5;124;03m\"\"\"Overridable method to return labels for connections.\"\"\"\u001b[39;00m\n\u001b[1;32m--> 313\u001b[0m     \u001b[38;5;28;01mreturn\u001b[39;00m \u001b[38;5;28mstr\u001b[39m(cxn\u001b[38;5;241m.\u001b[39mshape)\n",
      "File \u001b[1;32m~\\.conda\\envs\\qualtran\\Lib\\functools.py:990\u001b[0m, in \u001b[0;36mcached_property.__get__\u001b[1;34m(self, instance, owner)\u001b[0m\n\u001b[0;32m    985\u001b[0m \u001b[38;5;28;01mexcept\u001b[39;00m \u001b[38;5;167;01mAttributeError\u001b[39;00m:  \u001b[38;5;66;03m# not all objects have __dict__ (e.g. class defines slots)\u001b[39;00m\n\u001b[0;32m    986\u001b[0m     msg \u001b[38;5;241m=\u001b[39m (\n\u001b[0;32m    987\u001b[0m         \u001b[38;5;124mf\u001b[39m\u001b[38;5;124m\"\u001b[39m\u001b[38;5;124mNo \u001b[39m\u001b[38;5;124m'\u001b[39m\u001b[38;5;124m__dict__\u001b[39m\u001b[38;5;124m'\u001b[39m\u001b[38;5;124m attribute on \u001b[39m\u001b[38;5;132;01m{\u001b[39;00m\u001b[38;5;28mtype\u001b[39m(instance)\u001b[38;5;241m.\u001b[39m\u001b[38;5;18m__name__\u001b[39m\u001b[38;5;132;01m!r}\u001b[39;00m\u001b[38;5;124m \u001b[39m\u001b[38;5;124m\"\u001b[39m\n\u001b[0;32m    988\u001b[0m         \u001b[38;5;124mf\u001b[39m\u001b[38;5;124m\"\u001b[39m\u001b[38;5;124minstance to cache \u001b[39m\u001b[38;5;132;01m{\u001b[39;00m\u001b[38;5;28mself\u001b[39m\u001b[38;5;241m.\u001b[39mattrname\u001b[38;5;132;01m!r}\u001b[39;00m\u001b[38;5;124m property.\u001b[39m\u001b[38;5;124m\"\u001b[39m\n\u001b[0;32m    989\u001b[0m     )\n\u001b[1;32m--> 990\u001b[0m     \u001b[38;5;28;01mraise\u001b[39;00m \u001b[38;5;167;01mTypeError\u001b[39;00m(msg) \u001b[38;5;28;01mfrom\u001b[39;00m \u001b[38;5;28;01mNone\u001b[39;00m\n\u001b[0;32m    991\u001b[0m val \u001b[38;5;241m=\u001b[39m cache\u001b[38;5;241m.\u001b[39mget(\u001b[38;5;28mself\u001b[39m\u001b[38;5;241m.\u001b[39mattrname, _NOT_FOUND)\n\u001b[0;32m    992\u001b[0m \u001b[38;5;28;01mif\u001b[39;00m val \u001b[38;5;129;01mis\u001b[39;00m _NOT_FOUND:\n",
      "\u001b[1;31mTypeError\u001b[0m: No '__dict__' attribute on 'Connection' instance to cache 'shape' property."
     ]
    }
   ],
   "source": [
    "from qualtran import Bloq, BloqBuilder, Signature, Soquet\n",
    "from qualtran.drawing import show_bloq\n",
    "from typing import *\n",
    "import numpy as np\n",
    "# An example Bloq:\n",
    "from qualtran.bloqs.basic_gates import CNOT\n",
    "bloq = CNOT()\n",
    "\n",
    "# Wire up (way 1)\n",
    "bb = BloqBuilder()\n",
    "q0 = bb.add_register('q0', 1)\n",
    "q1 = bb.add_register('q1', 1)\n",
    "q0, q1 = bb.add(bloq, ctrl=q0, target=q1)\n",
    "q0, q1 = bb.add(bloq, ctrl=q0, target=q1)\n",
    "cbloq = bb.finalize(q0=q0, q1=q1)\n",
    "show_bloq(cbloq)"
   ]
  },
  {
   "cell_type": "code",
   "execution_count": 151,
   "id": "48231a6c-277c-4c53-942a-7c36dac290c3",
   "metadata": {},
   "outputs": [
    {
     "ename": "TypeError",
     "evalue": "No '__dict__' attribute on 'Connection' instance to cache 'shape' property.",
     "output_type": "error",
     "traceback": [
      "\u001b[1;31m---------------------------------------------------------------------------\u001b[0m",
      "\u001b[1;31mTypeError\u001b[0m                                 Traceback (most recent call last)",
      "Cell \u001b[1;32mIn[151], line 13\u001b[0m\n\u001b[0;32m     10\u001b[0m         q1, q2 \u001b[38;5;241m=\u001b[39m bb\u001b[38;5;241m.\u001b[39madd(CNOT(), ctrl\u001b[38;5;241m=\u001b[39mq2, target\u001b[38;5;241m=\u001b[39mq1)\n\u001b[0;32m     11\u001b[0m         \u001b[38;5;28;01mreturn\u001b[39;00m {\u001b[38;5;124m'\u001b[39m\u001b[38;5;124mq1\u001b[39m\u001b[38;5;124m'\u001b[39m: q1, \u001b[38;5;124m'\u001b[39m\u001b[38;5;124mq2\u001b[39m\u001b[38;5;124m'\u001b[39m: q2}\n\u001b[1;32m---> 13\u001b[0m show_bloq(TestTwoCNOT())\n",
      "File \u001b[1;32m~\\.conda\\envs\\qualtran\\Lib\\site-packages\\qualtran\\drawing\\_show_funcs.py:48\u001b[0m, in \u001b[0;36mshow_bloq\u001b[1;34m(bloq, type)\u001b[0m\n\u001b[0;32m     37\u001b[0m \u001b[38;5;250m\u001b[39m\u001b[38;5;124;03m\"\"\"Display a visual representation of the bloq in IPython.\u001b[39;00m\n\u001b[0;32m     38\u001b[0m \n\u001b[0;32m     39\u001b[0m \u001b[38;5;124;03mArgs:\u001b[39;00m\n\u001b[1;32m   (...)\u001b[0m\n\u001b[0;32m     45\u001b[0m \u001b[38;5;124;03m        and is invoked via a subprocess.run() call. Otherwise, draw a musical score diagram.\u001b[39;00m\n\u001b[0;32m     46\u001b[0m \u001b[38;5;124;03m\"\"\"\u001b[39;00m\n\u001b[0;32m     47\u001b[0m \u001b[38;5;28;01mif\u001b[39;00m \u001b[38;5;28mtype\u001b[39m\u001b[38;5;241m.\u001b[39mlower() \u001b[38;5;241m==\u001b[39m \u001b[38;5;124m'\u001b[39m\u001b[38;5;124mgraph\u001b[39m\u001b[38;5;124m'\u001b[39m:\n\u001b[1;32m---> 48\u001b[0m     IPython\u001b[38;5;241m.\u001b[39mdisplay\u001b[38;5;241m.\u001b[39mdisplay(PrettyGraphDrawer(bloq)\u001b[38;5;241m.\u001b[39mget_svg())\n\u001b[0;32m     49\u001b[0m \u001b[38;5;28;01melif\u001b[39;00m \u001b[38;5;28mtype\u001b[39m\u001b[38;5;241m.\u001b[39mlower() \u001b[38;5;241m==\u001b[39m \u001b[38;5;124m'\u001b[39m\u001b[38;5;124mdtype\u001b[39m\u001b[38;5;124m'\u001b[39m:\n\u001b[0;32m     50\u001b[0m     IPython\u001b[38;5;241m.\u001b[39mdisplay\u001b[38;5;241m.\u001b[39mdisplay(TypedGraphDrawer(bloq)\u001b[38;5;241m.\u001b[39mget_svg())\n",
      "File \u001b[1;32m~\\.conda\\envs\\qualtran\\Lib\\site-packages\\qualtran\\drawing\\graphviz.py:367\u001b[0m, in \u001b[0;36mGraphDrawer.get_svg\u001b[1;34m(self)\u001b[0m\n\u001b[0;32m    365\u001b[0m \u001b[38;5;28;01mdef\u001b[39;00m \u001b[38;5;21mget_svg\u001b[39m(\u001b[38;5;28mself\u001b[39m) \u001b[38;5;241m-\u001b[39m\u001b[38;5;241m>\u001b[39m IPython\u001b[38;5;241m.\u001b[39mdisplay\u001b[38;5;241m.\u001b[39mSVG:\n\u001b[0;32m    366\u001b[0m \u001b[38;5;250m    \u001b[39m\u001b[38;5;124;03m\"\"\"Get an IPython SVG object displaying the graph.\"\"\"\u001b[39;00m\n\u001b[1;32m--> 367\u001b[0m     \u001b[38;5;28;01mreturn\u001b[39;00m IPython\u001b[38;5;241m.\u001b[39mdisplay\u001b[38;5;241m.\u001b[39mSVG(\u001b[38;5;28mself\u001b[39m\u001b[38;5;241m.\u001b[39mget_svg_bytes())\n",
      "File \u001b[1;32m~\\.conda\\envs\\qualtran\\Lib\\site-packages\\qualtran\\drawing\\graphviz.py:363\u001b[0m, in \u001b[0;36mGraphDrawer.get_svg_bytes\u001b[1;34m(self)\u001b[0m\n\u001b[0;32m    361\u001b[0m \u001b[38;5;28;01mdef\u001b[39;00m \u001b[38;5;21mget_svg_bytes\u001b[39m(\u001b[38;5;28mself\u001b[39m) \u001b[38;5;241m-\u001b[39m\u001b[38;5;241m>\u001b[39m \u001b[38;5;28mbytes\u001b[39m:\n\u001b[0;32m    362\u001b[0m \u001b[38;5;250m    \u001b[39m\u001b[38;5;124;03m\"\"\"Get the SVG code (as bytes) for drawing the graph.\"\"\"\u001b[39;00m\n\u001b[1;32m--> 363\u001b[0m     \u001b[38;5;28;01mreturn\u001b[39;00m \u001b[38;5;28mself\u001b[39m\u001b[38;5;241m.\u001b[39mget_graph()\u001b[38;5;241m.\u001b[39mcreate(prog\u001b[38;5;241m=\u001b[39m\u001b[38;5;124m'\u001b[39m\u001b[38;5;124mdot\u001b[39m\u001b[38;5;124m'\u001b[39m, \u001b[38;5;28mformat\u001b[39m\u001b[38;5;241m=\u001b[39m\u001b[38;5;124m'\u001b[39m\u001b[38;5;124msvg\u001b[39m\u001b[38;5;124m'\u001b[39m, encoding\u001b[38;5;241m=\u001b[39m\u001b[38;5;124m'\u001b[39m\u001b[38;5;124mutf-8\u001b[39m\u001b[38;5;124m'\u001b[39m)\n",
      "File \u001b[1;32m~\\.conda\\envs\\qualtran\\Lib\\site-packages\\qualtran\\drawing\\graphviz.py:357\u001b[0m, in \u001b[0;36mGraphDrawer.get_graph\u001b[1;34m(self)\u001b[0m\n\u001b[0;32m    354\u001b[0m graph \u001b[38;5;241m=\u001b[39m \u001b[38;5;28mself\u001b[39m\u001b[38;5;241m.\u001b[39madd_dangles(graph, \u001b[38;5;28mself\u001b[39m\u001b[38;5;241m.\u001b[39m_cbloq\u001b[38;5;241m.\u001b[39msignature, RightDangle)\n\u001b[0;32m    356\u001b[0m \u001b[38;5;28;01mfor\u001b[39;00m cxn \u001b[38;5;129;01min\u001b[39;00m \u001b[38;5;28mself\u001b[39m\u001b[38;5;241m.\u001b[39m_cbloq\u001b[38;5;241m.\u001b[39mconnections:\n\u001b[1;32m--> 357\u001b[0m     graph \u001b[38;5;241m=\u001b[39m \u001b[38;5;28mself\u001b[39m\u001b[38;5;241m.\u001b[39madd_cxn(graph, cxn)\n\u001b[0;32m    359\u001b[0m \u001b[38;5;28;01mreturn\u001b[39;00m graph\n",
      "File \u001b[1;32m~\\.conda\\envs\\qualtran\\Lib\\site-packages\\qualtran\\drawing\\graphviz.py:340\u001b[0m, in \u001b[0;36mGraphDrawer.add_cxn\u001b[1;34m(self, graph, cxn)\u001b[0m\n\u001b[0;32m    337\u001b[0m \u001b[38;5;28;01melse\u001b[39;00m:\n\u001b[0;32m    338\u001b[0m     right \u001b[38;5;241m=\u001b[39m \u001b[38;5;124mf\u001b[39m\u001b[38;5;124m'\u001b[39m\u001b[38;5;132;01m{\u001b[39;00m\u001b[38;5;28mself\u001b[39m\u001b[38;5;241m.\u001b[39mids[cxn\u001b[38;5;241m.\u001b[39mright\u001b[38;5;241m.\u001b[39mbinst]\u001b[38;5;132;01m}\u001b[39;00m\u001b[38;5;124m:\u001b[39m\u001b[38;5;132;01m{\u001b[39;00m\u001b[38;5;28mself\u001b[39m\u001b[38;5;241m.\u001b[39mids[cxn\u001b[38;5;241m.\u001b[39mright]\u001b[38;5;132;01m}\u001b[39;00m\u001b[38;5;124m:w\u001b[39m\u001b[38;5;124m'\u001b[39m\n\u001b[1;32m--> 340\u001b[0m graph\u001b[38;5;241m.\u001b[39madd_edge(\u001b[38;5;28mself\u001b[39m\u001b[38;5;241m.\u001b[39mcxn_edge(left, right, cxn))\n\u001b[0;32m    341\u001b[0m \u001b[38;5;28;01mreturn\u001b[39;00m graph\n",
      "File \u001b[1;32m~\\.conda\\envs\\qualtran\\Lib\\site-packages\\qualtran\\drawing\\graphviz.py:398\u001b[0m, in \u001b[0;36mPrettyGraphDrawer.cxn_edge\u001b[1;34m(self, left_id, right_id, cxn)\u001b[0m\n\u001b[0;32m    394\u001b[0m \u001b[38;5;28;01mdef\u001b[39;00m \u001b[38;5;21mcxn_edge\u001b[39m(\u001b[38;5;28mself\u001b[39m, left_id: \u001b[38;5;28mstr\u001b[39m, right_id: \u001b[38;5;28mstr\u001b[39m, cxn: Connection) \u001b[38;5;241m-\u001b[39m\u001b[38;5;241m>\u001b[39m pydot\u001b[38;5;241m.\u001b[39mEdge:\n\u001b[0;32m    395\u001b[0m     \u001b[38;5;28;01mreturn\u001b[39;00m pydot\u001b[38;5;241m.\u001b[39mEdge(\n\u001b[0;32m    396\u001b[0m         left_id,\n\u001b[0;32m    397\u001b[0m         right_id,\n\u001b[1;32m--> 398\u001b[0m         label\u001b[38;5;241m=\u001b[39m\u001b[38;5;28mself\u001b[39m\u001b[38;5;241m.\u001b[39mcxn_label(cxn),\n\u001b[0;32m    399\u001b[0m         labelfloat\u001b[38;5;241m=\u001b[39m\u001b[38;5;28;01mTrue\u001b[39;00m,\n\u001b[0;32m    400\u001b[0m         fontsize\u001b[38;5;241m=\u001b[39m\u001b[38;5;241m10\u001b[39m,\n\u001b[0;32m    401\u001b[0m         arrowhead\u001b[38;5;241m=\u001b[39m\u001b[38;5;124m'\u001b[39m\u001b[38;5;124mdot\u001b[39m\u001b[38;5;124m'\u001b[39m,\n\u001b[0;32m    402\u001b[0m         arrowsize\u001b[38;5;241m=\u001b[39m\u001b[38;5;241m0.25\u001b[39m,\n\u001b[0;32m    403\u001b[0m     )\n",
      "File \u001b[1;32m~\\.conda\\envs\\qualtran\\Lib\\site-packages\\qualtran\\drawing\\graphviz.py:313\u001b[0m, in \u001b[0;36mGraphDrawer.cxn_label\u001b[1;34m(self, cxn)\u001b[0m\n\u001b[0;32m    311\u001b[0m \u001b[38;5;28;01mdef\u001b[39;00m \u001b[38;5;21mcxn_label\u001b[39m(\u001b[38;5;28mself\u001b[39m, cxn: Connection) \u001b[38;5;241m-\u001b[39m\u001b[38;5;241m>\u001b[39m \u001b[38;5;28mstr\u001b[39m:\n\u001b[0;32m    312\u001b[0m \u001b[38;5;250m    \u001b[39m\u001b[38;5;124;03m\"\"\"Overridable method to return labels for connections.\"\"\"\u001b[39;00m\n\u001b[1;32m--> 313\u001b[0m     \u001b[38;5;28;01mreturn\u001b[39;00m \u001b[38;5;28mstr\u001b[39m(cxn\u001b[38;5;241m.\u001b[39mshape)\n",
      "File \u001b[1;32m~\\.conda\\envs\\qualtran\\Lib\\functools.py:990\u001b[0m, in \u001b[0;36mcached_property.__get__\u001b[1;34m(self, instance, owner)\u001b[0m\n\u001b[0;32m    985\u001b[0m \u001b[38;5;28;01mexcept\u001b[39;00m \u001b[38;5;167;01mAttributeError\u001b[39;00m:  \u001b[38;5;66;03m# not all objects have __dict__ (e.g. class defines slots)\u001b[39;00m\n\u001b[0;32m    986\u001b[0m     msg \u001b[38;5;241m=\u001b[39m (\n\u001b[0;32m    987\u001b[0m         \u001b[38;5;124mf\u001b[39m\u001b[38;5;124m\"\u001b[39m\u001b[38;5;124mNo \u001b[39m\u001b[38;5;124m'\u001b[39m\u001b[38;5;124m__dict__\u001b[39m\u001b[38;5;124m'\u001b[39m\u001b[38;5;124m attribute on \u001b[39m\u001b[38;5;132;01m{\u001b[39;00m\u001b[38;5;28mtype\u001b[39m(instance)\u001b[38;5;241m.\u001b[39m\u001b[38;5;18m__name__\u001b[39m\u001b[38;5;132;01m!r}\u001b[39;00m\u001b[38;5;124m \u001b[39m\u001b[38;5;124m\"\u001b[39m\n\u001b[0;32m    988\u001b[0m         \u001b[38;5;124mf\u001b[39m\u001b[38;5;124m\"\u001b[39m\u001b[38;5;124minstance to cache \u001b[39m\u001b[38;5;132;01m{\u001b[39;00m\u001b[38;5;28mself\u001b[39m\u001b[38;5;241m.\u001b[39mattrname\u001b[38;5;132;01m!r}\u001b[39;00m\u001b[38;5;124m property.\u001b[39m\u001b[38;5;124m\"\u001b[39m\n\u001b[0;32m    989\u001b[0m     )\n\u001b[1;32m--> 990\u001b[0m     \u001b[38;5;28;01mraise\u001b[39;00m \u001b[38;5;167;01mTypeError\u001b[39;00m(msg) \u001b[38;5;28;01mfrom\u001b[39;00m \u001b[38;5;28;01mNone\u001b[39;00m\n\u001b[0;32m    991\u001b[0m val \u001b[38;5;241m=\u001b[39m cache\u001b[38;5;241m.\u001b[39mget(\u001b[38;5;28mself\u001b[39m\u001b[38;5;241m.\u001b[39mattrname, _NOT_FOUND)\n\u001b[0;32m    992\u001b[0m \u001b[38;5;28;01mif\u001b[39;00m val \u001b[38;5;129;01mis\u001b[39;00m _NOT_FOUND:\n",
      "\u001b[1;31mTypeError\u001b[0m: No '__dict__' attribute on 'Connection' instance to cache 'shape' property."
     ]
    }
   ],
   "source": [
    "class TestTwoCNOT(Bloq):\n",
    "    @property\n",
    "    def signature(self) -> Signature:\n",
    "        return Signature.build(q1=1, q2=1)\n",
    "\n",
    "    def build_composite_bloq(\n",
    "        self, bb: 'BloqBuilder', q1: 'Soquet', q2: 'Soquet'\n",
    "    ) -> Dict[str, 'Soquet']:\n",
    "        q1, q2 = bb.add(CNOT(), ctrl=q1, target=q2)\n",
    "        q1, q2 = bb.add(CNOT(), ctrl=q2, target=q1)\n",
    "        return {'q1': q1, 'q2': q2}\n",
    "\n",
    "show_bloq(TestTwoCNOT())\n",
    "\n"
   ]
  },
  {
   "cell_type": "code",
   "execution_count": null,
   "id": "2684c172-2ed0-41a2-870c-60c91097b9a3",
   "metadata": {},
   "outputs": [
    {
     "ename": "",
     "evalue": "",
     "output_type": "error",
     "traceback": [
      "\u001b[1;31mThe kernel failed to start as the Python Environment 'Python 3.10.12' is no longer available. Consider selecting another kernel or refreshing the list of Python Environments."
     ]
    }
   ],
   "source": [
    "import cirq\n",
    "import numpy as np\n",
    "from qualtran import Bloq, CompositeBloq, BloqBuilder, Signature, Register\n",
    "from qualtran import QBit, QInt, QUInt, QAny\n",
    "from qualtran.drawing import show_bloq, show_call_graph, show_counts_sigma, show_bloqs\n",
    "from typing import *\n",
    "import sympy\n",
    "from qualtran import SoquetT\n",
    "from qualtran.symbolics import SymbolicFloat, SymbolicInt\n",
    "from qualtran.bloqs.basic_gates import CNOT, Hadamard, XGate, SU2RotationGate, SGate\n",
    "import attrs"
   ]
  },
  {
   "cell_type": "code",
   "execution_count": null,
   "id": "6702cd77-e22d-447a-a7d4-0bfcaf5306cc",
   "metadata": {},
   "outputs": [],
   "source": []
  },
  {
   "cell_type": "code",
   "execution_count": null,
   "id": "da26a2cf-b6fa-4fe0-ae08-5efd33252668",
   "metadata": {},
   "outputs": [],
   "source": []
  },
  {
   "cell_type": "code",
   "execution_count": null,
   "id": "60fc1036-47ad-4271-a1ba-1945df357480",
   "metadata": {},
   "outputs": [],
   "source": []
  },
  {
   "cell_type": "code",
   "execution_count": null,
   "id": "d4f2de4d-1e40-48e3-bb7b-8faff9b36ff4",
   "metadata": {},
   "outputs": [],
   "source": []
  }
 ],
 "metadata": {
  "kernelspec": {
   "display_name": "Python 3",
   "language": "python",
   "name": "python3"
  },
  "language_info": {
   "codemirror_mode": {
    "name": "ipython",
    "version": 3
   },
   "file_extension": ".py",
   "mimetype": "text/x-python",
   "name": "python",
   "nbconvert_exporter": "python",
   "pygments_lexer": "ipython3",
   "version": "3.10.12"
  }
 },
 "nbformat": 4,
 "nbformat_minor": 5
}
